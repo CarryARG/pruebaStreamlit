{
 "cells": [
  {
   "cell_type": "markdown",
   "metadata": {},
   "source": [
    "# Se crea un modelo de ML para definir caracteristicas como: 'Costo de Combustible', 'Costo Electrico', 'Nivel de Ruido'\n",
    "\n",
    "# Luego se objetivisa a los 3 tipos de vehiculos: Convencional, Hibrido y Electrico."
   ]
  },
  {
   "cell_type": "code",
   "execution_count": 4,
   "metadata": {},
   "outputs": [
    {
     "name": "stdout",
     "output_type": "stream",
     "text": [
      "Vehicle_Type\n",
      "Convencional    3374\n",
      "Híbrido         1012\n",
      "Eléctrico        239\n",
      "Name: count, dtype: int64\n"
     ]
    }
   ],
   "source": [
    "import pandas as pd\n",
    "from sklearn.model_selection import train_test_split\n",
    "from sklearn.ensemble import RandomForestClassifier  # O el modelo que prefieras\n",
    "from sklearn.metrics import accuracy_score  # O métricas como MSE si es regresión\n",
    "import joblib\n",
    "\n",
    "\n",
    "# Cargar el dataset\n",
    "df = pd.read_csv('../Data/costo_operacional_vehiculos_clean.csv')\n",
    "\n",
    "# Función para categorizar los vehículos\n",
    "def categorize_vehicle(row):\n",
    "    if row['Fuel_Type'] in ['Diesel', 'Petrol', 'Petrol/LPG']:\n",
    "        return 'Convencional'\n",
    "    elif row['Fuel_Type'] == 'Electricity':\n",
    "        return 'Eléctrico'\n",
    "    else:\n",
    "        return 'Híbrido'\n",
    "\n",
    "# Aplicar la función al dataframe\n",
    "df['Vehicle_Type'] = df.apply(categorize_vehicle, axis=1)\n",
    "\n",
    "# Verificar la distribución\n",
    "print(df['Vehicle_Type'].value_counts())\n",
    "\n",
    "\n",
    "# Preprocesamiento (asegúrate de limpiar y preparar los datos para ML)\n",
    "df = df.dropna()  # Por ejemplo, eliminar valores nulos\n",
    "\n",
    "# Definir las características (features) y la variable objetivo (target)\n",
    "X = df[['Fuel_Cost', 'Electric_Cost', 'Noise_Level']]  # Ejemplo de características\n",
    "y = df['Vehicle_Type']  # Objetivo de predicción (convencional, eléctrico, híbrido)\n",
    "\n",
    "# Dividir en conjuntos de entrenamiento y prueba\n",
    "X_train, X_test, y_train, y_test = train_test_split(X, y, test_size=0.3, random_state=42)\n"
   ]
  },
  {
   "cell_type": "code",
   "execution_count": 5,
   "metadata": {},
   "outputs": [
    {
     "name": "stdout",
     "output_type": "stream",
     "text": [
      "Accuracy del modelo: 0.90\n"
     ]
    }
   ],
   "source": [
    "# Inicializar el modelo (en este caso, un Random Forest)\n",
    "model = RandomForestClassifier()\n",
    "\n",
    "# Entrenar el modelo\n",
    "model.fit(X_train, y_train)\n",
    "\n",
    "# Hacer predicciones\n",
    "y_pred = model.predict(X_test)\n",
    "\n",
    "# Evaluar el modelo\n",
    "accuracy = accuracy_score(y_test, y_pred)\n",
    "print(f'Accuracy del modelo: {accuracy:.2f}')\n"
   ]
  },
  {
   "cell_type": "code",
   "execution_count": 6,
   "metadata": {},
   "outputs": [
    {
     "data": {
      "text/plain": [
       "['modelo_rf.pkl']"
      ]
     },
     "execution_count": 6,
     "metadata": {},
     "output_type": "execute_result"
    }
   ],
   "source": [
    "# Guardar el modelo en un archivo\n",
    "joblib.dump(model, 'modelo_rf.joblib')\n"
   ]
  },
  {
   "cell_type": "markdown",
   "metadata": {},
   "source": [
    "# Conexion con streamlit..."
   ]
  },
  {
   "cell_type": "code",
   "execution_count": null,
   "metadata": {},
   "outputs": [],
   "source": [
    "import streamlit as st\n",
    "import joblib\n",
    "import pandas as pd\n",
    "\n",
    "# Cargar el modelo\n",
    "model = joblib.load('modelo_rf.joblib')\n",
    "\n",
    "# Título de la app\n",
    "st.title(\"Predicción del Tipo de Vehículo\")\n",
    "\n",
    "# Crear un formulario para los inputs del usuario\n",
    "fuel_cost = st.number_input(\"Costo de combustible ($):\", min_value=0.0, step=0.1)\n",
    "electric_cost = st.number_input(\"Costo eléctrico ($):\", min_value=0.0, step=0.1)\n",
    "noise_level = st.number_input(\"Nivel de ruido (dB):\", min_value=0.0, step=0.1)\n",
    "\n",
    "# Cuando el usuario hace clic en el botón \"Predecir\"\n",
    "if st.button('Predecir'):\n",
    "    # Crear el dataframe con los inputs del usuario\n",
    "    user_input = pd.DataFrame([[fuel_cost, electric_cost, noise_level]],\n",
    "                              columns=['Fuel_Cost', 'Electric_Cost', 'Noise_Level'])\n",
    "\n",
    "    # Hacer la predicción\n",
    "    prediction = model.predict(user_input)\n",
    "    \n",
    "    # Mostrar el resultado\n",
    "    st.write(f\"El tipo de vehículo predicho es: {prediction[0]}\")\n"
   ]
  },
  {
   "cell_type": "markdown",
   "metadata": {},
   "source": [
    "# Para ejecutar la aplicación de Streamlit, ir a la terminal y ejecuta: streamlit run app.py\n"
   ]
  }
 ],
 "metadata": {
  "kernelspec": {
   "display_name": "Python 3",
   "language": "python",
   "name": "python3"
  },
  "language_info": {
   "codemirror_mode": {
    "name": "ipython",
    "version": 3
   },
   "file_extension": ".py",
   "mimetype": "text/x-python",
   "name": "python",
   "nbconvert_exporter": "python",
   "pygments_lexer": "ipython3",
   "version": "3.11.9"
  }
 },
 "nbformat": 4,
 "nbformat_minor": 2
}

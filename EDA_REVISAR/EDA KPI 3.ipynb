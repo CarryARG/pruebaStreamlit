{
 "cells": [
  {
   "cell_type": "code",
   "execution_count": null,
   "metadata": {},
   "outputs": [],
   "source": [
    "import pandas as pd\n",
    "import matplotlib.pyplot as plt\n",
    "import seaborn as sns\n",
    "\n",
    "# Cargar los datos\n",
    "yellow_trips = pd.read_parquet('..\\\\sources\\\\yellow_tripdata_2024-01.parquet')\n",
    "green_trips = pd.read_parquet('..\\\\sources\\\\green_tripdata_2024-01.parquet')\n",
    "fhv_trips = pd.read_parquet('..\\\\sources\\\\fhv_tripdata_2024-01.parquet')"
   ]
  },
  {
   "cell_type": "markdown",
   "metadata": {},
   "source": [
    "# **2. Revisión de Valores Nulos y Tipos de Datos**"
   ]
  },
  {
   "cell_type": "code",
   "execution_count": null,
   "metadata": {},
   "outputs": [],
   "source": [
    "# Valores nulos\n",
    "print(yellow_trips.isnull().sum())\n",
    "print(green_trips.isnull().sum())\n",
    "print(fhv_trips.isnull().sum())\n",
    "\n",
    "# Tipos de datos\n",
    "print(yellow_trips.dtypes)\n",
    "print(green_trips.dtypes)\n",
    "print(fhv_trips.dtypes)"
   ]
  },
  {
   "cell_type": "markdown",
   "metadata": {},
   "source": [
    "**Manejo de Valores Nulos**\n",
    "\n",
    "*Yellow Trips:*\n",
    "\n",
    "passenger_count, RatecodeID, store_and_fwd_flag, congestion_surcharge, y Airport_fee tienen un número considerable de valores nulos.\n",
    "Podríamos imputar valores, eliminar registros nulos, o considerar estas variables como no críticas si los valores nulos son significativos.\n",
    "\n",
    "*Green Trips:*\n",
    "\n",
    "Similar a Yellow Trips, las columnas passenger_count, RatecodeID, store_and_fwd_flag, ehail_fee, y congestion_surcharge tienen valores nulos.\n",
    "Evaluar si la imputación o eliminación de estos datos afectará el análisis.\n",
    "\n",
    "*FHV:*\n",
    "\n",
    "PUlocationID, DOlocationID, y SR_Flag tienen una gran cantidad de valores nulos.\n",
    "Decidir cómo manejar estos nulos, especialmente si afectan el análisis espacial o de tipo de viaje."
   ]
  },
  {
   "cell_type": "code",
   "execution_count": null,
   "metadata": {},
   "outputs": [],
   "source": [
    "# Decisión basada en el análisis\n",
    "yellow_trips = yellow_trips.dropna(subset=['passenger_count', 'RatecodeID'])\n",
    "green_trips = green_trips.dropna(subset=['passenger_count', 'RatecodeID','trip_type'])\n",
    "fhv_trips = fhv_trips.dropna(subset=['PUlocationID', 'DOlocationID'])\n",
    "\n",
    "\n",
    "fhv_trips = fhv_trips.fillna({'SR_Flag': 0})\n",
    "green_trips = green_trips.drop(columns=['ehail_fee'])\n"
   ]
  },
  {
   "cell_type": "code",
   "execution_count": null,
   "metadata": {},
   "outputs": [],
   "source": [
    "yellow_trips"
   ]
  },
  {
   "cell_type": "markdown",
   "metadata": {},
   "source": [
    "# **3. Estadísticas Descriptivas**"
   ]
  },
  {
   "cell_type": "code",
   "execution_count": null,
   "metadata": {},
   "outputs": [],
   "source": [
    "# Estadísticas descriptivas\n",
    "print(yellow_trips.describe())\n",
    "print(green_trips.describe())\n",
    "print(fhv_trips.describe())\n"
   ]
  },
  {
   "cell_type": "markdown",
   "metadata": {},
   "source": [
    "Limpieza de Datos: Sería necesario limpiar y corregir estos valores atípicos y negativos para asegurar que el análisis sea preciso. Esto podría incluir la eliminación de filas con fechas claramente incorrectas, el reemplazo de valores negativos con nulos o valores estimados, y la eliminación de outliers excesivos.\n",
    "\n",
    "Verificación de Rangos Temporales: Asegúrate de que los datos estén dentro del rango temporal correcto y de que las fechas no tengan inconsistencias que puedan afectar el análisis."
   ]
  },
  {
   "cell_type": "code",
   "execution_count": null,
   "metadata": {},
   "outputs": [],
   "source": [
    "# convertir valores negativos a positivos solo en columnas específicas\n",
    "columnas_a_convertir = ['fare_amount', 'extra', 'mta_tax', 'tip_amount', 'tolls_amount', 'total_amount', 'congestion_surcharge']\n",
    "\n",
    "for col in columnas_a_convertir:\n",
    "    yellow_trips[col] = yellow_trips[col].abs()\n",
    "    green_trips[col] = green_trips[col].abs()\n",
    "    # df_fhv no tiene estas columnas, por lo que no es necesario en este caso.\n",
    "\n",
    "yellow_trips['Airport_fee'] = yellow_trips['Airport_fee'].abs()\n",
    "green_trips['improvement_surcharge'] = green_trips['improvement_surcharge'].abs()"
   ]
  },
  {
   "cell_type": "markdown",
   "metadata": {},
   "source": [
    "# **4. Distribución de Viajes por Ubicación**"
   ]
  },
  {
   "cell_type": "markdown",
   "metadata": {},
   "source": [
    "* Identificar las Columnas Relevantes: Nos enfocaremos en las columnas PUlocationID (Pick-Up Location ID) y DOlocationID (Drop-Off Location ID) para los viajes de Yellow Trips, Green Trips y FHV. Estas columnas contienen los identificadores de las ubicaciones de origen y destino de los viajes.\n",
    "\n",
    "* Distribución de Viajes por Ubicación:\n",
    "\n",
    "Contar la cantidad de viajes que comenzaron (PUlocationID) y terminaron (DOlocationID) en cada ubicación.\n",
    "Crear visualizaciones para mostrar cómo se distribuyen los viajes en las distintas ubicaciones."
   ]
  },
  {
   "cell_type": "markdown",
   "metadata": {},
   "source": [
    "# **YELLOW_TRIPS**"
   ]
  },
  {
   "cell_type": "code",
   "execution_count": null,
   "metadata": {},
   "outputs": [],
   "source": [
    "import numpy as np\n",
    "\n",
    "# Definir los intervalos para agrupar las locationID\n",
    "bins = np.arange(0, yellow_trips['PULocationID'].max() + 50, 50)  # Intervalos de 50 unidades\n",
    "labels = [f'{i}-{i+49}' for i in bins[:-1]]  # Etiquetas para los intervalos\n"
   ]
  },
  {
   "cell_type": "code",
   "execution_count": null,
   "metadata": {},
   "outputs": [],
   "source": [
    "# Agrupar y contar por intervalos para PUlocationID\n",
    "pu_yellow_binned = pd.cut(yellow_trips['PULocationID'], bins=bins, labels=labels)\n",
    "pu_yellow_counts_binned = pu_yellow_binned.value_counts().sort_index()\n",
    "\n",
    "# Agrupar y contar por intervalos para DOlocationID\n",
    "do_yellow_binned = pd.cut(yellow_trips['DOLocationID'], bins=bins, labels=labels)\n",
    "do_yellow_counts_binned = do_yellow_binned.value_counts().sort_index()\n"
   ]
  },
  {
   "cell_type": "code",
   "execution_count": null,
   "metadata": {},
   "outputs": [],
   "source": [
    "# Visualización de la distribución por intervalos de PUlocationID\n",
    "plt.figure(figsize=(14, 7))\n",
    "sns.barplot(x=pu_yellow_counts_binned.index, y=pu_yellow_counts_binned.values, palette='viridis')\n",
    "plt.title('Distribución de Viajes por PUlocationID en Yellow Trips (Agrupados por Intervalos)')\n",
    "plt.xlabel('Intervalo de PUlocationID')\n",
    "plt.ylabel('Cantidad de Viajes')\n",
    "plt.xticks(rotation=90)\n",
    "plt.show()\n",
    "\n",
    "# Visualización de la distribución por intervalos de DOlocationID\n",
    "plt.figure(figsize=(14, 7))\n",
    "sns.barplot(x=do_yellow_counts_binned.index, y=do_yellow_counts_binned.values, palette='plasma')\n",
    "plt.title('Distribución de Viajes por DOlocationID en Yellow Trips (Agrupados por Intervalos)')\n",
    "plt.xlabel('Intervalo de DOlocationID')\n",
    "plt.ylabel('Cantidad de Viajes')\n",
    "plt.xticks(rotation=90)\n",
    "plt.show()"
   ]
  },
  {
   "cell_type": "markdown",
   "metadata": {},
   "source": [
    "# **GREEN_TRIPS**"
   ]
  },
  {
   "cell_type": "code",
   "execution_count": null,
   "metadata": {},
   "outputs": [],
   "source": [
    "import numpy as np\n",
    "\n",
    "# Definir los intervalos para agrupar las locationID\n",
    "bins = np.arange(0, green_trips['PULocationID'].max() + 50, 50)  # Intervalos de 50 unidades\n",
    "labels = [f'{i}-{i+49}' for i in bins[:-1]]  # Etiquetas para los intervalos\n"
   ]
  },
  {
   "cell_type": "code",
   "execution_count": null,
   "metadata": {},
   "outputs": [],
   "source": [
    "# Agrupar y contar por intervalos para PUlocationID\n",
    "pu_green_binned = pd.cut(green_trips['PULocationID'], bins=bins, labels=labels)\n",
    "pu_green_counts_binned = pu_green_binned.value_counts().sort_index()\n",
    "\n",
    "# Agrupar y contar por intervalos para DOlocationID\n",
    "do_green_binned = pd.cut(green_trips['DOLocationID'], bins=bins, labels=labels)\n",
    "do_green_counts_binned = do_green_binned.value_counts().sort_index()"
   ]
  },
  {
   "cell_type": "code",
   "execution_count": null,
   "metadata": {},
   "outputs": [],
   "source": [
    "# Visualización de la distribución por intervalos de PUlocationID\n",
    "plt.figure(figsize=(14, 7))\n",
    "sns.barplot(x=pu_green_counts_binned.index, y=pu_green_counts_binned.values, palette='viridis')\n",
    "plt.title('Distribución de Viajes por PUlocationID en green Trips (Agrupados por Intervalos)')\n",
    "plt.xlabel('Intervalo de PUlocationID')\n",
    "plt.ylabel('Cantidad de Viajes')\n",
    "plt.xticks(rotation=90)\n",
    "plt.show()\n",
    "\n",
    "# Visualización de la distribución por intervalos de DOlocationID\n",
    "plt.figure(figsize=(14, 7))\n",
    "sns.barplot(x=do_green_counts_binned.index, y=do_green_counts_binned.values, palette='plasma')\n",
    "plt.title('Distribución de Viajes por DOlocationID en green Trips (Agrupados por Intervalos)')\n",
    "plt.xlabel('Intervalo de DOlocationID')\n",
    "plt.ylabel('Cantidad de Viajes')\n",
    "plt.xticks(rotation=90)\n",
    "plt.show()"
   ]
  },
  {
   "cell_type": "markdown",
   "metadata": {},
   "source": [
    "# **fhv_trips**"
   ]
  },
  {
   "cell_type": "code",
   "execution_count": null,
   "metadata": {},
   "outputs": [],
   "source": [
    "import numpy as np\n",
    "\n",
    "# Definir los intervalos para agrupar las locationID\n",
    "bins = np.arange(0, fhv_trips['PUlocationID'].max() + 50, 50)  # Intervalos de 50 unidades\n",
    "labels = [f'{i}-{i+49}' for i in bins[:-1]]  # Etiquetas para los intervalos"
   ]
  },
  {
   "cell_type": "code",
   "execution_count": null,
   "metadata": {},
   "outputs": [],
   "source": [
    "# Agrupar y contar por intervalos para PUlocationID\n",
    "pu_fhv_binned = pd.cut(fhv_trips['PUlocationID'], bins=bins, labels=labels)\n",
    "pu_fhv_counts_binned = pu_fhv_binned.value_counts().sort_index()\n",
    "\n",
    "# Agrupar y contar por intervalos para DOlocationID\n",
    "do_fhv_binned = pd.cut(fhv_trips['DOlocationID'], bins=bins, labels=labels)\n",
    "do_fhv_counts_binned = do_fhv_binned.value_counts().sort_index()"
   ]
  },
  {
   "cell_type": "code",
   "execution_count": null,
   "metadata": {},
   "outputs": [],
   "source": [
    "# Visualización de la distribución por intervalos de PUlocationID\n",
    "plt.figure(figsize=(14, 7))\n",
    "sns.barplot(x=pu_fhv_counts_binned.index, y=pu_fhv_counts_binned.values, palette='viridis')\n",
    "plt.title('Distribución de Viajes por PUlocationID en fhv Trips (Agrupados por Intervalos)')\n",
    "plt.xlabel('Intervalo de PUlocationID')\n",
    "plt.ylabel('Cantidad de Viajes')\n",
    "plt.xticks(rotation=90)\n",
    "plt.show()\n",
    "\n",
    "# Visualización de la distribución por intervalos de DOlocationID\n",
    "plt.figure(figsize=(14, 7))\n",
    "sns.barplot(x=do_fhv_counts_binned.index, y=do_fhv_counts_binned.values, palette='plasma')\n",
    "plt.title('Distribución de Viajes por DOlocationID en fhv Trips (Agrupados por Intervalos)')\n",
    "plt.xlabel('Intervalo de DOlocationID')\n",
    "plt.ylabel('Cantidad de Viajes')\n",
    "plt.xticks(rotation=90)\n",
    "plt.show()"
   ]
  },
  {
   "cell_type": "code",
   "execution_count": null,
   "metadata": {},
   "outputs": [],
   "source": [
    "fhv_trips"
   ]
  },
  {
   "cell_type": "markdown",
   "metadata": {},
   "source": [
    "# **5. Análisis de Tiempos**"
   ]
  },
  {
   "cell_type": "markdown",
   "metadata": {},
   "source": [
    "**Aspectos a Analizar:**\n",
    "\n",
    "* *Distribución de la duración de los viajes:* Esto implica analizar cómo se distribuyen los tiempos de viaje en los datasets (Yellow Trips, Green Trips, y FHV).\n",
    "\n",
    "* *Análisis de la duración promedio de los viajes por día de la semana.*\n",
    "\n",
    "* *Distribución de los viajes por intervalos de tiempo (minutos).*\n",
    "\n",
    "* *Análisis temporal por horas del día o meses del año para identificar patrones de mayor o menor actividad.*"
   ]
  },
  {
   "cell_type": "markdown",
   "metadata": {},
   "source": [
    "# **yellow_trips**"
   ]
  },
  {
   "cell_type": "markdown",
   "metadata": {},
   "source": [
    "### Paso 1: Preparación de los Datos\n",
    "\n",
    "Necesitamos asegurarnos de que la columna de `tiempo de viaje` esté correctamente definida y convertirla a una métrica de tiempo (por ejemplo, en minutos o segundos).\n",
    "\n",
    "Si ya tienes una columna como `trip_duration` (que representa el tiempo del viaje en segundos o minutos), podemos utilizarla directamente. Si no, deberemos calcularla restando `dropoff_datetime - pickup_datetime`."
   ]
  },
  {
   "cell_type": "code",
   "execution_count": null,
   "metadata": {},
   "outputs": [],
   "source": [
    "# Cambiar el nombre de la columna 'tpep_pickup_datetime' a 'pickup_datetime'\n",
    "yellow_trips = yellow_trips.rename(columns={'tpep_pickup_datetime': 'pickup_datetime'})\n",
    "# Cambiar el nombre de la columna 'tpep_dropoff_datetime' a 'dropoff_datetime'\n",
    "yellow_trips = yellow_trips.rename(columns={'tpep_dropoff_datetime': 'dropoff_datetime'})"
   ]
  },
  {
   "cell_type": "code",
   "execution_count": null,
   "metadata": {},
   "outputs": [],
   "source": [
    "# Si no existe la columna trip_duration, la creamos en minutos\n",
    "yellow_trips['pickup_datetime'] = pd.to_datetime(yellow_trips['pickup_datetime'])\n",
    "yellow_trips['dropoff_datetime'] = pd.to_datetime(yellow_trips['dropoff_datetime'])\n",
    "\n",
    "yellow_trips['trip_duration'] = (yellow_trips['dropoff_datetime'] - yellow_trips['pickup_datetime']).dt.total_seconds() / 60  # En minutos\n"
   ]
  },
  {
   "cell_type": "markdown",
   "metadata": {},
   "source": [
    "### Paso 2: Distribución de la Duración de los Viajes\n",
    "\n",
    "Ahora que tenemos la duración de los viajes en minutos, podemos visualizar su distribución. Esto nos ayudará a entender si la mayoría de los viajes son cortos, medianos o largos."
   ]
  },
  {
   "cell_type": "code",
   "execution_count": null,
   "metadata": {},
   "outputs": [],
   "source": [
    "plt.figure(figsize=(12, 6))\n",
    "sns.histplot(yellow_trips['trip_duration'], bins=50, color='blue', kde=True)\n",
    "plt.title('Distribución de la Duración de los Viajes (Minutos) en Yellow Trips')\n",
    "plt.xlabel('Duración del Viaje (Minutos)')\n",
    "plt.ylabel('Cantidad de Viajes')\n",
    "plt.xlim(0, 100)  # Limitar la gráfica para evitar valores atípicos\n",
    "plt.show()"
   ]
  },
  {
   "cell_type": "markdown",
   "metadata": {},
   "source": [
    "### Paso 3: Duración Promedio de los Viajes por Día de la Semana\n",
    "\n",
    "Podemos analizar cómo varía la duración promedio de los viajes según el día de la semana."
   ]
  },
  {
   "cell_type": "code",
   "execution_count": null,
   "metadata": {},
   "outputs": [],
   "source": [
    "# Añadir columna de día de la semana\n",
    "yellow_trips['day_of_week'] = yellow_trips['pickup_datetime'].dt.day_name()\n",
    "\n",
    "# Calcular duración promedio por día de la semana\n",
    "mean_duration_by_day = yellow_trips.groupby('day_of_week')['trip_duration'].mean().sort_values()"
   ]
  },
  {
   "cell_type": "code",
   "execution_count": null,
   "metadata": {},
   "outputs": [],
   "source": [
    "# Graficar la duración promedio por día de la semana\n",
    "plt.figure(figsize=(10, 5))\n",
    "sns.barplot(x=mean_duration_by_day.index, y=mean_duration_by_day.values, palette='viridis')\n",
    "plt.title('Duración Promedio de Viajes por Día de la Semana en Yellow Trips')\n",
    "plt.xlabel('Día de la Semana')\n",
    "plt.ylabel('Duración Promedio del Viaje (Minutos)')\n",
    "plt.show()"
   ]
  },
  {
   "cell_type": "markdown",
   "metadata": {},
   "source": [
    "### Paso 4: Distribución por Intervalos de Tiempo\n",
    "\n",
    "Podemos agrupar la duración de los viajes en intervalos de tiempo y contar cuántos viajes caen dentro de cada intervalo.\n"
   ]
  },
  {
   "cell_type": "code",
   "execution_count": null,
   "metadata": {},
   "outputs": [],
   "source": [
    "# Definir los intervalos de tiempo (en minutos)\n",
    "bins_duration = [0, 5, 10, 15, 20, 30, 40, 60, 120, 240]\n",
    "labels_duration = ['0-5 min', '5-10 min', '10-15 min', '15-20 min', '20-30 min', '30-40 min', '40-60 min', '60-120 min', '120+ min']\n",
    "\n",
    "# Agrupar la duración de los viajes por intervalos\n",
    "yellow_trips['duration_binned'] = pd.cut(yellow_trips['trip_duration'], bins=bins_duration, labels=labels_duration)\n",
    "\n",
    "# Contar la cantidad de viajes en cada intervalo\n",
    "duration_counts = yellow_trips['duration_binned'].value_counts().sort_index()\n"
   ]
  },
  {
   "cell_type": "code",
   "execution_count": null,
   "metadata": {},
   "outputs": [],
   "source": [
    "# Graficar la distribución por intervalos de duración\n",
    "plt.figure(figsize=(12, 6))\n",
    "sns.barplot(x=duration_counts.index, y=duration_counts.values, palette='plasma')\n",
    "plt.title('Distribución de Viajes por Intervalos de Duración en Yellow Trips')\n",
    "plt.xlabel('Intervalo de Duración del Viaje')\n",
    "plt.ylabel('Cantidad de Viajes')\n",
    "plt.xticks(rotation=45)\n",
    "plt.show()"
   ]
  },
  {
   "cell_type": "markdown",
   "metadata": {},
   "source": [
    "### Paso 5: Análisis por Hora del Día\n",
    "\n",
    "Analizar cómo varía la cantidad de viajes y su duración según la hora del día puede ser útil para identificar patrones temporales."
   ]
  },
  {
   "cell_type": "code",
   "execution_count": null,
   "metadata": {},
   "outputs": [],
   "source": [
    "# Añadir columna de hora del día\n",
    "yellow_trips['hour_of_day'] = yellow_trips['pickup_datetime'].dt.hour\n",
    "\n",
    "# Calcular duración promedio por hora del día\n",
    "mean_duration_by_hour = yellow_trips.groupby('hour_of_day')['trip_duration'].mean()\n"
   ]
  },
  {
   "cell_type": "code",
   "execution_count": null,
   "metadata": {},
   "outputs": [],
   "source": [
    "# Graficar la duración promedio por hora del día\n",
    "plt.figure(figsize=(10, 5))\n",
    "sns.lineplot(x=mean_duration_by_hour.index, y=mean_duration_by_hour.values, marker='o', color='green')\n",
    "plt.title('Duración Promedio de Viajes por Hora del Día en Yellow Trips')\n",
    "plt.xlabel('Hora del Día')\n",
    "plt.ylabel('Duración Promedio del Viaje (Minutos)')\n",
    "plt.grid(True)\n",
    "plt.show()"
   ]
  },
  {
   "cell_type": "markdown",
   "metadata": {},
   "source": [
    "# **green_trips**"
   ]
  },
  {
   "cell_type": "markdown",
   "metadata": {},
   "source": [
    "1"
   ]
  },
  {
   "cell_type": "code",
   "execution_count": null,
   "metadata": {},
   "outputs": [],
   "source": [
    "# Cambiar el nombre de la columna 'tpep_pickup_datetime' a 'pickup_datetime'\n",
    "green_trips = green_trips.rename(columns={'lpep_pickup_datetime': 'pickup_datetime'})\n",
    "# Cambiar el nombre de la columna 'tpep_dropoff_datetime' a 'dropoff_datetime'\n",
    "green_trips = green_trips.rename(columns={'lpep_dropoff_datetime': 'dropoff_datetime'})"
   ]
  },
  {
   "cell_type": "code",
   "execution_count": null,
   "metadata": {},
   "outputs": [],
   "source": [
    "# Si no existe la columna trip_duration, la creamos en minutos\n",
    "green_trips['pickup_datetime'] = pd.to_datetime(green_trips['pickup_datetime'])\n",
    "green_trips['dropoff_datetime'] = pd.to_datetime(green_trips['dropoff_datetime'])\n",
    "\n",
    "green_trips['trip_duration'] = (green_trips['dropoff_datetime'] - green_trips['pickup_datetime']).dt.total_seconds() / 60  # En minutos\n"
   ]
  },
  {
   "cell_type": "markdown",
   "metadata": {},
   "source": [
    "2"
   ]
  },
  {
   "cell_type": "code",
   "execution_count": null,
   "metadata": {},
   "outputs": [],
   "source": [
    "plt.figure(figsize=(12, 6))\n",
    "sns.histplot(green_trips['trip_duration'], bins=50, color='blue', kde=True)\n",
    "plt.title('Distribución de la Duración de los Viajes (Minutos) en green_trips')\n",
    "plt.xlabel('Duración del Viaje (Minutos)')\n",
    "plt.ylabel('Cantidad de Viajes')\n",
    "plt.xlim(0, 100)  # Limitar la gráfica para evitar valores atípicos\n",
    "plt.show()"
   ]
  },
  {
   "cell_type": "markdown",
   "metadata": {},
   "source": [
    "3"
   ]
  },
  {
   "cell_type": "code",
   "execution_count": null,
   "metadata": {},
   "outputs": [],
   "source": [
    "# Añadir columna de día de la semana\n",
    "green_trips['day_of_week'] = green_trips['pickup_datetime'].dt.day_name()\n",
    "\n",
    "# Calcular duración promedio por día de la semana\n",
    "mean_duration_by_day = green_trips.groupby('day_of_week')['trip_duration'].mean().sort_values()"
   ]
  },
  {
   "cell_type": "code",
   "execution_count": null,
   "metadata": {},
   "outputs": [],
   "source": [
    "# Graficar la duración promedio por día de la semana\n",
    "plt.figure(figsize=(10, 5))\n",
    "sns.barplot(x=mean_duration_by_day.index, y=mean_duration_by_day.values, palette='viridis')\n",
    "plt.title('Duración Promedio de Viajes por Día de la Semana en green_trips')\n",
    "plt.xlabel('Día de la Semana')\n",
    "plt.ylabel('Duración Promedio del Viaje (Minutos)')\n",
    "plt.show()"
   ]
  },
  {
   "cell_type": "markdown",
   "metadata": {},
   "source": [
    "4"
   ]
  },
  {
   "cell_type": "code",
   "execution_count": null,
   "metadata": {},
   "outputs": [],
   "source": [
    "# Definir los intervalos de tiempo (en minutos)\n",
    "bins_duration = [0, 5, 10, 15, 20, 30, 40, 60, 120, 240]\n",
    "labels_duration = ['0-5 min', '5-10 min', '10-15 min', '15-20 min', '20-30 min', '30-40 min', '40-60 min', '60-120 min', '120+ min']\n",
    "\n",
    "# Agrupar la duración de los viajes por intervalos\n",
    "green_trips['duration_binned'] = pd.cut(green_trips['trip_duration'], bins=bins_duration, labels=labels_duration)\n",
    "\n",
    "# Contar la cantidad de viajes en cada intervalo\n",
    "duration_counts = green_trips['duration_binned'].value_counts().sort_index()"
   ]
  },
  {
   "cell_type": "code",
   "execution_count": null,
   "metadata": {},
   "outputs": [],
   "source": [
    "# Graficar la distribución por intervalos de duración\n",
    "plt.figure(figsize=(12, 6))\n",
    "sns.barplot(x=duration_counts.index, y=duration_counts.values, palette='plasma')\n",
    "plt.title('Distribución de Viajes por Intervalos de Duración en green_trips')\n",
    "plt.xlabel('Intervalo de Duración del Viaje')\n",
    "plt.ylabel('Cantidad de Viajes')\n",
    "plt.xticks(rotation=45)\n",
    "plt.show()"
   ]
  },
  {
   "cell_type": "markdown",
   "metadata": {},
   "source": [
    "5"
   ]
  },
  {
   "cell_type": "code",
   "execution_count": null,
   "metadata": {},
   "outputs": [],
   "source": [
    "# Añadir columna de hora del día\n",
    "green_trips['hour_of_day'] = green_trips['pickup_datetime'].dt.hour\n",
    "\n",
    "# Calcular duración promedio por hora del día\n",
    "mean_duration_by_hour = green_trips.groupby('hour_of_day')['trip_duration'].mean()"
   ]
  },
  {
   "cell_type": "code",
   "execution_count": null,
   "metadata": {},
   "outputs": [],
   "source": [
    "# Graficar la duración promedio por hora del día\n",
    "plt.figure(figsize=(10, 5))\n",
    "sns.lineplot(x=mean_duration_by_hour.index, y=mean_duration_by_hour.values, marker='o', color='green')\n",
    "plt.title('Duración Promedio de Viajes por Hora del Día en green_trips')\n",
    "plt.xlabel('Hora del Día')\n",
    "plt.ylabel('Duración Promedio del Viaje (Minutos)')\n",
    "plt.grid(True)\n",
    "plt.show()"
   ]
  },
  {
   "cell_type": "markdown",
   "metadata": {},
   "source": [
    "# **fhv_trips**"
   ]
  },
  {
   "cell_type": "markdown",
   "metadata": {},
   "source": [
    "1"
   ]
  },
  {
   "cell_type": "code",
   "execution_count": null,
   "metadata": {},
   "outputs": [],
   "source": [
    "# Cambiar el nombre de la columna 'tpep_pickup_datetime' a 'pickup_datetime'\n",
    "fhv_trips = fhv_trips.rename(columns={'lpep_pickup_datetime': 'pickup_datetime'})\n",
    "# Cambiar el nombre de la columna 'tpep_dropoff_datetime' a 'dropoff_datetime'\n",
    "fhv_trips = fhv_trips.rename(columns={'dropOff_datetime': 'dropoff_datetime'})"
   ]
  },
  {
   "cell_type": "code",
   "execution_count": null,
   "metadata": {},
   "outputs": [],
   "source": [
    "# Si no existe la columna trip_duration, la creamos en minutos\n",
    "fhv_trips['pickup_datetime'] = pd.to_datetime(fhv_trips['pickup_datetime'])\n",
    "fhv_trips['dropoff_datetime'] = pd.to_datetime(fhv_trips['dropoff_datetime'])\n",
    "\n",
    "fhv_trips['trip_duration'] = (fhv_trips['dropoff_datetime'] - fhv_trips['pickup_datetime']).dt.total_seconds() / 60  # En minutos"
   ]
  },
  {
   "cell_type": "markdown",
   "metadata": {},
   "source": [
    "2"
   ]
  },
  {
   "cell_type": "code",
   "execution_count": null,
   "metadata": {},
   "outputs": [],
   "source": [
    "plt.figure(figsize=(12, 6))\n",
    "sns.histplot(fhv_trips['trip_duration'], bins=50, color='blue', kde=True)\n",
    "plt.title('Distribución de la Duración de los Viajes (Minutos) en fhv_trips')\n",
    "plt.xlabel('Duración del Viaje (Minutos)')\n",
    "plt.ylabel('Cantidad de Viajes')\n",
    "plt.xlim(0, 100)  # Limitar la gráfica para evitar valores atípicos\n",
    "plt.show()"
   ]
  },
  {
   "cell_type": "markdown",
   "metadata": {},
   "source": [
    "3"
   ]
  },
  {
   "cell_type": "code",
   "execution_count": null,
   "metadata": {},
   "outputs": [],
   "source": [
    "# Añadir columna de día de la semana\n",
    "fhv_trips['day_of_week'] = fhv_trips['pickup_datetime'].dt.day_name()\n",
    "\n",
    "# Calcular duración promedio por día de la semana\n",
    "mean_duration_by_day = fhv_trips.groupby('day_of_week')['trip_duration'].mean().sort_values()"
   ]
  },
  {
   "cell_type": "code",
   "execution_count": null,
   "metadata": {},
   "outputs": [],
   "source": [
    "# Graficar la duración promedio por día de la semana\n",
    "plt.figure(figsize=(10, 5))\n",
    "sns.barplot(x=mean_duration_by_day.index, y=mean_duration_by_day.values, palette='viridis')\n",
    "plt.title('Duración Promedio de Viajes por Día de la Semana en fhv_trips')\n",
    "plt.xlabel('Día de la Semana')\n",
    "plt.ylabel('Duración Promedio del Viaje (Minutos)')\n",
    "plt.show()"
   ]
  },
  {
   "cell_type": "markdown",
   "metadata": {},
   "source": [
    "4"
   ]
  },
  {
   "cell_type": "code",
   "execution_count": null,
   "metadata": {},
   "outputs": [],
   "source": [
    "# Definir los intervalos de tiempo (en minutos)\n",
    "bins_duration = [0, 5, 10, 15, 20, 30, 40, 60, 120, 240]\n",
    "labels_duration = ['0-5 min', '5-10 min', '10-15 min', '15-20 min', '20-30 min', '30-40 min', '40-60 min', '60-120 min', '120+ min']\n",
    "\n",
    "# Agrupar la duración de los viajes por intervalos\n",
    "fhv_trips['duration_binned'] = pd.cut(fhv_trips['trip_duration'], bins=bins_duration, labels=labels_duration)\n",
    "\n",
    "# Contar la cantidad de viajes en cada intervalo\n",
    "duration_counts = fhv_trips['duration_binned'].value_counts().sort_index()"
   ]
  },
  {
   "cell_type": "code",
   "execution_count": null,
   "metadata": {},
   "outputs": [],
   "source": [
    "# Graficar la distribución por intervalos de duración\n",
    "plt.figure(figsize=(12, 6))\n",
    "sns.barplot(x=duration_counts.index, y=duration_counts.values, palette='plasma')\n",
    "plt.title('Distribución de Viajes por Intervalos de Duración en fhv_trips')\n",
    "plt.xlabel('Intervalo de Duración del Viaje')\n",
    "plt.ylabel('Cantidad de Viajes')\n",
    "plt.xticks(rotation=45)\n",
    "plt.show()"
   ]
  },
  {
   "cell_type": "markdown",
   "metadata": {},
   "source": [
    "5"
   ]
  },
  {
   "cell_type": "code",
   "execution_count": null,
   "metadata": {},
   "outputs": [],
   "source": [
    "# Añadir columna de hora del día\n",
    "fhv_trips['hour_of_day'] = fhv_trips['pickup_datetime'].dt.hour\n",
    "\n",
    "# Calcular duración promedio por hora del día\n",
    "mean_duration_by_hour = fhv_trips.groupby('hour_of_day')['trip_duration'].mean()"
   ]
  },
  {
   "cell_type": "code",
   "execution_count": null,
   "metadata": {},
   "outputs": [],
   "source": [
    "# Graficar la duración promedio por hora del día\n",
    "plt.figure(figsize=(10, 5))\n",
    "sns.lineplot(x=mean_duration_by_hour.index, y=mean_duration_by_hour.values, marker='o', color='green')\n",
    "plt.title('Duración Promedio de Viajes por Hora del Día en fhv_trips')\n",
    "plt.xlabel('Hora del Día')\n",
    "plt.ylabel('Duración Promedio del Viaje (Minutos)')\n",
    "plt.grid(True)\n",
    "plt.show()"
   ]
  },
  {
   "cell_type": "markdown",
   "metadata": {},
   "source": [
    "# **punto 6: Análisis de Tarifas**"
   ]
  },
  {
   "cell_type": "markdown",
   "metadata": {},
   "source": [
    "### Aspectos a Analizar:\n",
    "\n",
    "1. **Distribución de las tarifas base** (`fare_amount`).\n",
    "2. **Análisis de cargos adicionales** como `surcharge`, `extra`, `tip_amount`, etc.\n",
    "3. **Relación entre la tarifa y la duración del viaje**.\n",
    "4. **Tarifa promedio por día de la semana y hora del día**.\n",
    "5. **Distribución de las tarifas por intervalos**."
   ]
  },
  {
   "cell_type": "markdown",
   "metadata": {},
   "source": [
    "### Paso 1: Distribución de la Tarifa Base\n",
    "\n",
    "Analizamos cómo se distribuyen las tarifas base (`fare_amount`) para obtener una visión general."
   ]
  },
  {
   "cell_type": "code",
   "execution_count": null,
   "metadata": {},
   "outputs": [],
   "source": [
    "plt.figure(figsize=(12, 6))\n",
    "sns.histplot(yellow_trips['fare_amount'], bins=50, color='blue', kde=True)\n",
    "plt.title('Distribución de la Tarifa Base en Yellow Trips')\n",
    "plt.xlabel('Tarifa Base (USD)')\n",
    "plt.ylabel('Cantidad de Viajes')\n",
    "plt.xlim(0, 100)  # Limitar la gráfica a un rango razonable para evitar valores atípicos\n",
    "plt.show()"
   ]
  },
  {
   "cell_type": "markdown",
   "metadata": {},
   "source": [
    "### Paso 2: Análisis de Cargos Adicionales\n",
    "\n",
    "Podemos analizar los cargos adicionales en las tarifas, como el `surcharge`, `extra`, `tip_amount`, y otros.\n"
   ]
  },
  {
   "cell_type": "code",
   "execution_count": null,
   "metadata": {},
   "outputs": [],
   "source": [
    "# Graficar la distribución de los cargos adicionales\n",
    "fig, ax = plt.subplots(1, 3, figsize=(18, 5))\n",
    "\n",
    "sns.histplot(yellow_trips['congestion_surcharge'], bins=50, color='orange', kde=True, ax=ax[0])\n",
    "ax[0].set_title('Distribución de Surcharge en Yellow Trips')\n",
    "ax[0].set_xlabel('Surcharge (USD)')\n",
    "\n",
    "plt.tight_layout()\n",
    "plt.show()"
   ]
  },
  {
   "cell_type": "code",
   "execution_count": null,
   "metadata": {},
   "outputs": [],
   "source": [
    "fig, ax = plt.subplots(1, 3, figsize=(18, 5))\n",
    "sns.histplot(yellow_trips['extra'], bins=50, color='green', kde=True, ax=ax[1])\n",
    "ax[1].set_title('Distribución de Extra en Yellow Trips')\n",
    "ax[1].set_xlabel('Extra (USD)')\n",
    "plt.tight_layout()\n",
    "plt.show()"
   ]
  },
  {
   "cell_type": "code",
   "execution_count": null,
   "metadata": {},
   "outputs": [],
   "source": [
    "fig, ax = plt.subplots(1, 3, figsize=(18, 5))\n",
    "sns.histplot(yellow_trips['tip_amount'], bins=50, color='purple', kde=True, ax=ax[2])\n",
    "ax[2].set_title('Distribución de Propinas en Yellow Trips')\n",
    "ax[2].set_xlabel('Propina (USD)')\n",
    "plt.tight_layout()\n",
    "plt.show()"
   ]
  },
  {
   "cell_type": "markdown",
   "metadata": {},
   "source": [
    "### Paso 3: Relación entre la Tarifa y la Duración del Viaje\n",
    "\n",
    "Es interesante analizar si existe una correlación entre la tarifa base (`fare_amount`) y la duración del viaje (`trip_duration`)."
   ]
  },
  {
   "cell_type": "code",
   "execution_count": null,
   "metadata": {},
   "outputs": [],
   "source": [
    "plt.figure(figsize=(10, 6))\n",
    "sns.scatterplot(x='trip_duration', y='fare_amount', data=yellow_trips, alpha=0.2, color='blue')\n",
    "plt.title('Relación entre la Duración del Viaje y la Tarifa Base')\n",
    "plt.xlabel('Duración del Viaje (Minutos)')\n",
    "plt.ylabel('Tarifa Base (USD)')\n",
    "plt.xlim(0, 100)  # Limitar los ejes para evitar valores atípicos\n",
    "plt.ylim(0, 100)\n",
    "plt.grid(True)\n",
    "plt.show()"
   ]
  },
  {
   "cell_type": "markdown",
   "metadata": {},
   "source": [
    "### Paso 4: Tarifa Promedio por Día de la Semana y Hora del Día\n",
    "\n",
    "Podemos analizar cómo varía la tarifa promedio dependiendo del día de la semana y la hora del día.\n",
    "\n"
   ]
  },
  {
   "cell_type": "markdown",
   "metadata": {},
   "source": [
    "#### Por Día de la Semana"
   ]
  },
  {
   "cell_type": "code",
   "execution_count": 62,
   "metadata": {},
   "outputs": [
    {
     "name": "stderr",
     "output_type": "stream",
     "text": [
      "C:\\Users\\david\\AppData\\Local\\Temp\\ipykernel_12072\\907824228.py:6: FutureWarning: \n",
      "\n",
      "Passing `palette` without assigning `hue` is deprecated and will be removed in v0.14.0. Assign the `x` variable to `hue` and set `legend=False` for the same effect.\n",
      "\n",
      "  sns.barplot(x=mean_fare_by_day.index, y=mean_fare_by_day.values, palette='viridis')\n"
     ]
    },
    {
     "data": {
      "image/png": "[encoded data removed]",
      "text/plain": [
       "<Figure size 1000x500 with 1 Axes>"
      ]
     },
     "metadata": {},
     "output_type": "display_data"
    }
   ],
   "source": [
    "# Calcular la tarifa promedio por día de la semana\n",
    "mean_fare_by_day = yellow_trips.groupby('day_of_week')['fare_amount'].mean().sort_values()\n",
    "\n",
    "# Graficar la tarifa promedio por día de la semana\n",
    "plt.figure(figsize=(10, 5))\n",
    "sns.barplot(x=mean_fare_by_day.index, y=mean_fare_by_day.values, palette='viridis')\n",
    "plt.title('Tarifa Promedio por Día de la Semana en Yellow Trips')\n",
    "plt.xlabel('Día de la Semana')\n",
    "plt.ylabel('Tarifa Promedio (USD)')\n",
    "plt.show()"
   ]
  },
  {
   "cell_type": "markdown",
   "metadata": {},
   "source": [
    "#### Por Hora del Día"
   ]
  },
  {
   "cell_type": "code",
   "execution_count": 63,
   "metadata": {},
   "outputs": [
    {
     "data": {
      "image/png": "[encoded data removed]",
      "text/plain": [
       "<Figure size 1000x500 with 1 Axes>"
      ]
     },
     "metadata": {},
     "output_type": "display_data"
    }
   ],
   "source": [
    "# Calcular la tarifa promedio por hora del día\n",
    "mean_fare_by_hour = yellow_trips.groupby('hour_of_day')['fare_amount'].mean()\n",
    "\n",
    "# Graficar la tarifa promedio por hora del día\n",
    "plt.figure(figsize=(10, 5))\n",
    "sns.lineplot(x=mean_fare_by_hour.index, y=mean_fare_by_hour.values, marker='o', color='green')\n",
    "plt.title('Tarifa Promedio por Hora del Día en Yellow Trips')\n",
    "plt.xlabel('Hora del Día')\n",
    "plt.ylabel('Tarifa Promedio (USD)')\n",
    "plt.grid(True)\n",
    "plt.show()"
   ]
  },
  {
   "cell_type": "markdown",
   "metadata": {},
   "source": [
    "### Paso 5: Distribución de Tarifas por Intervalos\n",
    "\n",
    "Podemos agrupar las tarifas en intervalos y ver cuántos viajes caen dentro de cada uno de ellos."
   ]
  },
  {
   "cell_type": "code",
   "execution_count": 64,
   "metadata": {},
   "outputs": [],
   "source": [
    "# Definir intervalos de tarifas\n",
    "bins_fare = [0, 5, 10, 15, 20, 30, 40, 50, 100]\n",
    "labels_fare = ['0-5 USD', '5-10 USD', '10-15 USD', '15-20 USD', '20-30 USD', '30-40 USD', '40-50 USD', '50+ USD']\n",
    "\n",
    "# Agrupar las tarifas por intervalos\n",
    "yellow_trips['fare_binned'] = pd.cut(yellow_trips['fare_amount'], bins=bins_fare, labels=labels_fare)\n",
    "\n",
    "# Contar la cantidad de viajes en cada intervalo de tarifas\n",
    "fare_counts = yellow_trips['fare_binned'].value_counts().sort_index()"
   ]
  },
  {
   "cell_type": "code",
   "execution_count": 65,
   "metadata": {},
   "outputs": [
    {
     "name": "stderr",
     "output_type": "stream",
     "text": [
      "C:\\Users\\david\\AppData\\Local\\Temp\\ipykernel_12072\\3372439774.py:3: FutureWarning: \n",
      "\n",
      "Passing `palette` without assigning `hue` is deprecated and will be removed in v0.14.0. Assign the `x` variable to `hue` and set `legend=False` for the same effect.\n",
      "\n",
      "  sns.barplot(x=fare_counts.index, y=fare_counts.values, palette='plasma')\n"
     ]
    },
    {
     "data": {
      "image/png": "[encoded data removed]",
      "text/plain": [
       "<Figure size 1200x600 with 1 Axes>"
      ]
     },
     "metadata": {},
     "output_type": "display_data"
    }
   ],
   "source": [
    "# Graficar la distribución por intervalos de tarifas\n",
    "plt.figure(figsize=(12, 6))\n",
    "sns.barplot(x=fare_counts.index, y=fare_counts.values, palette='plasma')\n",
    "plt.title('Distribución de Viajes por Intervalos de Tarifas en Yellow Trips')\n",
    "plt.xlabel('Intervalo de Tarifas (USD)')\n",
    "plt.ylabel('Cantidad de Viajes')\n",
    "plt.xticks(rotation=45)\n",
    "plt.show()"
   ]
  },
  {
   "cell_type": "code",
   "execution_count": 66,
   "metadata": {},
   "outputs": [],
   "source": [
    "yellow_trips.to_parquet('..\\\\Data\\\\yellow_tripdata.parquet')"
   ]
  },
  {
   "cell_type": "code",
   "execution_count": 67,
   "metadata": {},
   "outputs": [],
   "source": [
    "fhv_trips.to_parquet('..\\\\Data\\\\fhv_tripdata.parquet')"
   ]
  },
  {
   "cell_type": "code",
   "execution_count": 68,
   "metadata": {},
   "outputs": [],
   "source": [
    "green_trips.to_parquet('..\\\\Data\\\\green_tripdata.parquet')"
   ]
  }
 ],
 "metadata": {
  "kernelspec": {
   "display_name": "env",
   "language": "python",
   "name": "python3"
  },
  "language_info": {
   "codemirror_mode": {
    "name": "ipython",
    "version": 3
   },
   "file_extension": ".py",
   "mimetype": "text/x-python",
   "name": "python",
   "nbconvert_exporter": "python",
   "pygments_lexer": "ipython3",
   "version": "3.11.5"
  }
 },
 "nbformat": 4,
 "nbformat_minor": 2
}
